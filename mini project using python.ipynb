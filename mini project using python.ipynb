{
 "cells": [
  {
   "cell_type": "code",
   "execution_count": 1,
   "id": "9c8dc1bd",
   "metadata": {},
   "outputs": [],
   "source": [
    "import cv2\n",
    "from PIL import Image\n",
    "from pytesseract import pytesseract"
   ]
  },
  {
   "cell_type": "code",
   "execution_count": null,
   "id": "3ad60f24",
   "metadata": {},
   "outputs": [],
   "source": [
    "camera=cv2.VideoCapture(0)\n",
    "while True:\n",
    "    _,Image=camera.read()\n",
    "    cv2.imshow('Text detection',Image)\n",
    "    if cv2.waitKey(1)&0xFF==ord('d'):\n",
    "        cv2.imwrite('test1.jpg',Image)\n",
    "        break\n",
    "camera.release()\n",
    "cv2.destroyAllWindows()"
   ]
  },
  {
   "cell_type": "code",
   "execution_count": null,
   "id": "8d05554c",
   "metadata": {},
   "outputs": [],
   "source": [
    "def tesseract():\n",
    "    path_to_tesseract= r\"C:\\Program Files\\Tesseract-OCR\\tesseract.exe\"  \n",
    "    pytesseract.tesseract_cmd=path_to_tesseract\n",
    "    text = pytesseract.image_to_string(cv2.imread('test1.jpg'))\n",
    "    print(text)\n",
    "tesseract()"
   ]
  }
 ],
 "metadata": {
  "kernelspec": {
   "display_name": "Python 3 (ipykernel)",
   "language": "python",
   "name": "python3"
  },
  "language_info": {
   "codemirror_mode": {
    "name": "ipython",
    "version": 3
   },
   "file_extension": ".py",
   "mimetype": "text/x-python",
   "name": "python",
   "nbconvert_exporter": "python",
   "pygments_lexer": "ipython3",
   "version": "3.10.0"
  },
  "vscode": {
   "interpreter": {
    "hash": "6a701b62a0efaa176cb2f3d7c76db4262c4dd44873baa8a8772f35a1bf4f3d50"
   }
  }
 },
 "nbformat": 4,
 "nbformat_minor": 5
}
